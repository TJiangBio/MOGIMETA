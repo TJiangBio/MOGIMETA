{
 "cells": [
  {
   "cell_type": "code",
   "execution_count": 1,
   "id": "28f313c1",
   "metadata": {},
   "outputs": [],
   "source": [
    "import numpy as np\n",
    "import matplotlib.pyplot as plt\n",
    "from sklearn.metrics import f1_score, auc, roc_curve,accuracy_score, precision_score, recall_score, multilabel_confusion_matrix\n",
    "from torch import tensor\n",
    "import torch\n",
    "#import matplotlib\n",
    "import torch.nn.functional as F\n",
    "import math\n",
    "#matplotlib.use('Agg')\n",
    "\n",
    "#import matplotlib.pyplot as plt"
   ]
  },
  {
   "cell_type": "code",
   "execution_count": 2,
   "id": "c95d2252",
   "metadata": {},
   "outputs": [
    {
     "name": "stderr",
     "output_type": "stream",
     "text": [
      "C:\\Users\\Haiyang Jiang\\AppData\\Local\\Temp\\ipykernel_20028\\3385081874.py:2: UserWarning: Implicit dimension choice for softmax has been deprecated. Change the call to include dim=X as an argument.\n",
      "  b = F.softmax(a)\n",
      "C:\\Users\\Haiyang Jiang\\AppData\\Local\\Temp\\ipykernel_20028\\3385081874.py:3: UserWarning: Implicit dimension choice for log_softmax has been deprecated. Change the call to include dim=X as an argument.\n",
      "  c = F.log_softmax(a)\n"
     ]
    },
    {
     "name": "stdout",
     "output_type": "stream",
     "text": [
      "tensor([0.0900, 0.2447, 0.6652])\n",
      "tensor([-2.4076, -1.4076, -0.4076])\n",
      "tensor([0.0900, 0.2447, 0.6652])\n"
     ]
    }
   ],
   "source": [
    "a = torch.tensor([1.,2.,3.])\n",
    "b = F.softmax(a)\n",
    "c = F.log_softmax(a)\n",
    "print(b)\n",
    "print(c)\n",
    "d = torch.exp(c)\n",
    "print(d)"
   ]
  },
  {
   "cell_type": "code",
   "execution_count": 3,
   "id": "085326f9",
   "metadata": {},
   "outputs": [],
   "source": [
    "def get_y_true_pred1(O123):\n",
    "    Y_true = []\n",
    "    Y_pred1 = []\n",
    "    Labels = []\n",
    "    for i in range(O123.shape[1]):\n",
    "        if i%3==0:\n",
    "            y_true = O123[:,i]\n",
    "            y_pred = O123[:,i+1:i+3]\n",
    "            pred = np.argmax(y_pred,axis=1)#[1]\n",
    "            Labels.append(np.stack([y_true,pred],axis=1))\n",
    "            y_pred0 = O123[:,i+1]\n",
    "            y_pred1 = O123[:,i+2]\n",
    "        else:\n",
    "            continue\n",
    "        Y_true.append(y_true)\n",
    "        Y_pred1.append(y_pred1)\n",
    "    \n",
    "    return np.concatenate(Y_true), np.concatenate(Y_pred1), Labels"
   ]
  },
  {
   "cell_type": "code",
   "execution_count": 4,
   "id": "4be7257c",
   "metadata": {},
   "outputs": [],
   "source": [
    "O123 = np.loadtxt(open('GCN_Net123.csv',\"rb\"), delimiter=\",\", skiprows=0)\n",
    "O1 = np.loadtxt(open('GCN_Net1.csv',\"rb\"), delimiter=\",\", skiprows=0)\n",
    "O2 = np.loadtxt(open('GCN_Net2.csv',\"rb\"), delimiter=\",\", skiprows=0)\n",
    "O3 = np.loadtxt(open('GCN_Net3.csv',\"rb\"), delimiter=\",\", skiprows=0)\n",
    "\n",
    "Y123_true, Y123_pred1, Labels123 = get_y_true_pred1(O123)\n",
    "Y1_true, Y1_pred1, Labels1 = get_y_true_pred1(O1)\n",
    "Y2_true, Y2_pred1, Labels2 = get_y_true_pred1(O2)\n",
    "Y3_true, Y3_pred1, Labels3 = get_y_true_pred1(O3)"
   ]
  },
  {
   "cell_type": "code",
   "execution_count": 5,
   "id": "1019de7b",
   "metadata": {},
   "outputs": [],
   "source": [
    "LL = np.concatenate(Labels3,axis=1)\n",
    "np.savetxt('GCN_Net3test.csv',LL,fmt='%f',delimiter=\",\")\n"
   ]
  },
  {
   "cell_type": "code",
   "execution_count": 6,
   "id": "1c331ab0",
   "metadata": {},
   "outputs": [],
   "source": [
    "#Y_true = np.concatenate(Y_true)\n",
    "#Y_pred1 = np.concatenate(Y_pred1)"
   ]
  },
  {
   "cell_type": "code",
   "execution_count": 7,
   "id": "a962d7dd",
   "metadata": {},
   "outputs": [
    {
     "data": {
      "image/png": "[encoded data removed]",
      "text/plain": [
       "<Figure size 432x288 with 1 Axes>"
      ]
     },
     "metadata": {
      "needs_background": "light"
     },
     "output_type": "display_data"
    }
   ],
   "source": [
    "fpr123, tpr123, threshold123 = roc_curve(Y123_true, Y123_pred1)\n",
    "roc_auc123 = auc(fpr123,tpr123)\n",
    "fpr1, tpr1, threshold1 = roc_curve(Y1_true, Y1_pred1)\n",
    "roc_auc1 = auc(fpr1,tpr1)\n",
    "fpr2, tpr2, threshold2 = roc_curve(Y2_true, Y2_pred1)\n",
    "roc_auc2 = auc(fpr2,tpr2)\n",
    "fpr3, tpr3, threshold3 = roc_curve(Y3_true, Y3_pred1)\n",
    "roc_auc3 = auc(fpr3,tpr3)\n",
    "plt.plot(fpr123, tpr123, color='red',\n",
    "         lw=2, label='multi-omics (area = {:.2f} )'.format(roc_auc123))  # 假正率为横坐标，真正率为纵坐标做曲线\n",
    "plt.plot(fpr1, tpr1, color='green',\n",
    "         lw=2, label='   mRNA      (area = {:.2f} )'.format(roc_auc1))\n",
    "plt.plot(fpr2, tpr2, color='blue',\n",
    "         lw=2, label=' mutation    (area = {:.2f} )'.format(roc_auc2))\n",
    "plt.plot(fpr3, tpr3, color='orange',\n",
    "         lw=2, label='    meth       (area = {:.2f} )'.format(roc_auc3))\n",
    "plt.plot([0, 1], [0, 1], color='navy', lw=2, linestyle='--')\n",
    "plt.xlim([-0.0, 1.0])\n",
    "plt.ylim([-0.0, 1.05])\n",
    "plt.xlabel('1 - specificity')\n",
    "plt.ylabel('Sensitivity')\n",
    "plt.title('ROC', y=0.5)\n",
    "plt.legend(loc=\"lower right\")\n",
    "plt.show()"
   ]
  },
  {
   "cell_type": "code",
   "execution_count": 8,
   "id": "28d505e7",
   "metadata": {},
   "outputs": [
    {
     "ename": "NameError",
     "evalue": "name 'Y_true' is not defined",
     "output_type": "error",
     "traceback": [
      "\u001b[1;31m---------------------------------------------------------------------------\u001b[0m",
      "\u001b[1;31mNameError\u001b[0m                                 Traceback (most recent call last)",
      "Input \u001b[1;32mIn [8]\u001b[0m, in \u001b[0;36m<cell line: 1>\u001b[1;34m()\u001b[0m\n\u001b[1;32m----> 1\u001b[0m y \u001b[38;5;241m=\u001b[39m \u001b[43mY_true\u001b[49m\u001b[38;5;241m.\u001b[39mreshape(\u001b[38;5;241m75\u001b[39m,\u001b[38;5;241m-\u001b[39m\u001b[38;5;241m1\u001b[39m)\n",
      "\u001b[1;31mNameError\u001b[0m: name 'Y_true' is not defined"
     ]
    }
   ],
   "source": [
    "y = Y_true.reshape(75,-1)"
   ]
  },
  {
   "cell_type": "code",
   "execution_count": null,
   "id": "c0a3697f",
   "metadata": {},
   "outputs": [],
   "source": [
    "y"
   ]
  },
  {
   "cell_type": "code",
   "execution_count": null,
   "id": "69c42993",
   "metadata": {},
   "outputs": [],
   "source": []
  },
  {
   "cell_type": "code",
   "execution_count": 9,
   "id": "202b4ced",
   "metadata": {},
   "outputs": [],
   "source": [
    "\n",
    "def specificityCalc(Labels, Predictions):\n",
    "    MCM = multilabel_confusion_matrix(Labels, Predictions,\n",
    "                                      sample_weight=None,\n",
    "                                      labels=None, samplewise=None)\n",
    "    tn_sum = MCM[:, 0, 0]\n",
    "    fp_sum = MCM[:, 0, 1]\n",
    "\n",
    "    tp_sum = MCM[:, 1, 1]\n",
    "    fn_sum = MCM[:, 1, 0]\n",
    "\n",
    "    Condition_negative = tn_sum + fp_sum + 1e-6\n",
    "\n",
    "    Specificity = tn_sum / Condition_negative\n",
    "    macro_specificity = np.average(Specificity, weights=None)\n",
    "\n",
    "    micro_specificity = np.sum(tn_sum) / np.sum(tn_sum+fp_sum)\n",
    "\n",
    "    return macro_specificity, micro_specificity"
   ]
  },
  {
   "cell_type": "code",
   "execution_count": 10,
   "id": "f99c898a",
   "metadata": {},
   "outputs": [],
   "source": [
    "O123 = np.loadtxt(open('GCN_Net123test.csv',\"rb\"), delimiter=\",\", skiprows=0)#[1:,:]\n",
    "O1 = np.loadtxt(open('GCN_Net1test.csv',\"rb\"), delimiter=\",\", skiprows=0)\n",
    "O2 = np.loadtxt(open('GCN_Net2test.csv',\"rb\"), delimiter=\",\", skiprows=0)#[1:,:]\n",
    "O3 = np.loadtxt(open('GCN_Net3test.csv',\"rb\"), delimiter=\",\", skiprows=0)\n",
    "O_list = [O1, O2, O3, O123]"
   ]
  },
  {
   "cell_type": "code",
   "execution_count": 11,
   "id": "4dd09124",
   "metadata": {},
   "outputs": [],
   "source": [
    "#O1_acc, O2_acc, O3_acc, O123_acc = [], [], [], []\n",
    "Recall = []\n",
    "Precision = []\n",
    "F1 = []\n",
    "Specificity  = []\n",
    "Acc = []\n",
    "#O1_f1, O2_f1, O3_f1, O123_f1 = [], [], [], []\n"
   ]
  },
  {
   "cell_type": "code",
   "execution_count": 12,
   "id": "6b69579a",
   "metadata": {},
   "outputs": [],
   "source": [
    "for i in range(len(O_list)):\n",
    "    recall = []\n",
    "    precision = []\n",
    "    f1 = []\n",
    "    specificity  = []\n",
    "    acc = []\n",
    "    O_data = O_list[i]\n",
    "    for j in range(O_data.shape[1]):\n",
    "        if j%2==0:\n",
    "            y_true = O_data[:,j]\n",
    "            y_pred = O_data[:,j+1]\n",
    "        if j%2==1:\n",
    "            continue\n",
    "        recall.append(recall_score(y_true, y_pred))\n",
    "        precision.append(precision_score(y_true, y_pred))\n",
    "        f1.append(f1_score(y_true, y_pred))\n",
    "        specificity.append(specificityCalc(y_true, y_pred)[1])\n",
    "        acc.append(accuracy_score(y_true, y_pred)) \n",
    "    recall_array = np.array(recall)\n",
    "    precision_array = np.array(precision)\n",
    "    f1_array = np.array(f1)\n",
    "    specificity_array = np.array(specificity)\n",
    "    acc_array = np.array(acc)\n",
    "    \n",
    "    Recall.append(recall_array)\n",
    "    Precision.append(precision_array)\n",
    "    F1.append(f1_array)\n",
    "    Specificity.append(specificity_array)\n",
    "    Acc.append(acc_array)\n",
    " "
   ]
  },
  {
   "cell_type": "code",
   "execution_count": 13,
   "id": "c5316649",
   "metadata": {},
   "outputs": [],
   "source": [
    "\n",
    "\n",
    "Recall_array = np.array(Recall)\n",
    "Precision_array = np.array(Precision)\n",
    "F1_array = np.array(F1)  #O1_f1, O2_f1, O3_f1, O123_f1\n",
    "Specificity_array = np.array(Specificity)\n",
    "Acc_array = np.array(Acc)  #O1_acc, O2_acc, O3_acc, O123_acc\n"
   ]
  },
  {
   "cell_type": "code",
   "execution_count": 14,
   "id": "015e3c57",
   "metadata": {},
   "outputs": [],
   "source": [
    "np.savetxt('GCN_Recall.csv',Recall_array,fmt='%f',delimiter=\",\")\n",
    "np.savetxt('GCN_Precision.csv',Precision_array,fmt='%f',delimiter=\",\")\n",
    "np.savetxt('GCN_F1.csv',F1_array,fmt='%f',delimiter=\",\")\n",
    "np.savetxt('GCN_Specificity.csv',Specificity_array,fmt='%f',delimiter=\",\")\n",
    "np.savetxt('GCN_Acc.csv',Acc_array,fmt='%f',delimiter=\",\")\n"
   ]
  },
  {
   "cell_type": "code",
   "execution_count": 18,
   "id": "5e94d494",
   "metadata": {},
   "outputs": [],
   "source": [
    "Recall_mean = []\n",
    "Recall_std = []\n",
    "Precision_mean = []\n",
    "Precision_std = []\n",
    "F1_mean = []\n",
    "F1_std = []\n",
    "Specificity_mean = []\n",
    "Specificity_std = []\n",
    "Acc_mean = []\n",
    "Acc_std = []\n",
    "#F1_tensor = tensor(F1_array)\n",
    "#Acc_tensor = tensor(Acc_array)\n",
    "for i in range(F1_array.shape[0]):\n",
    "    \n",
    "    Recall_mean.append(np.mean(Recall_array[i]))\n",
    "    Recall_std.append(np.std(Recall_array[i]))\n",
    "    Precision_mean.append(np.mean(Precision_array[i]))\n",
    "    Precision_std.append(np.std(Precision_array[i]))\n",
    "    F1_mean.append(np.mean(F1_array[i]))\n",
    "    F1_std.append(np.std(F1_array[i]))\n",
    "    Specificity_mean.append(np.mean(Specificity_array[i]))\n",
    "    Specificity_std.append(np.std(Specificity_array[i]))\n",
    "    Acc_mean.append(np.mean(Acc_array[i]))\n",
    "    Acc_std.append(np.std(Acc_array[i]))\n",
    "    "
   ]
  },
  {
   "cell_type": "code",
   "execution_count": 21,
   "id": "6b5e5dc3",
   "metadata": {},
   "outputs": [
    {
     "name": "stdout",
     "output_type": "stream",
     "text": [
      "Recall: 89.93 ± 5.04\n",
      "Precision: 91.51 ± 5.27\n",
      "F1: 90.53 ± 3.24\n",
      "Specificity: 90.56 ± 3.35\n",
      "Acc: 90.56 ± 3.35\n",
      "0.8992603129445235 0.0503644100305489\n",
      "0.9150985265321089 0.0527187076881243\n",
      "0.9052522762190217 0.03244388862221435\n",
      "0.9056000000000001 0.03350250405235074\n",
      "0.9056000000000001 0.03350250405235074\n",
      "\n"
     ]
    }
   ],
   "source": [
    "print('Recall: {:.2f} ± {:.2f}'.format(Recall_mean[-1]*100,Recall_std[-1]*100 ))\n",
    "print('Precision: {:.2f} ± {:.2f}'.format(Precision_mean[-1]*100,Precision_std[-1]*100 ))\n",
    "print('F1: {:.2f} ± {:.2f}'.format(F1_mean[-1]*100,F1_std[-1]*100 ))\n",
    "print('Specificity: {:.2f} ± {:.2f}'.format(Specificity_mean[-1]*100,Specificity_std[-1]*100 ))\n",
    "print('Acc: {:.2f} ± {:.2f}'.format(Acc_mean[-1]*100,Acc_std[-1]*100 ))\n",
    "\n",
    "\n",
    "print(Recall_mean[-1],Recall_std[-1])\n",
    "print(Precision_mean[-1], Precision_std[-1])\n",
    "print(F1_mean[-1], F1_std[-1])\n",
    "print(Specificity_mean[-1], Specificity_std[-1])\n",
    "print(Acc_mean[-1], Acc_std[-1])\n",
    "print()"
   ]
  },
  {
   "cell_type": "code",
   "execution_count": 10,
   "id": "7f7801e5",
   "metadata": {},
   "outputs": [
    {
     "data": {
      "text/plain": [
       "[0.8640251495596384,\n",
       " 0.7785599325042188,\n",
       " 0.8854790600253958,\n",
       " 0.8991904658714833]"
      ]
     },
     "execution_count": 10,
     "metadata": {},
     "output_type": "execute_result"
    }
   ],
   "source": [
    "F1_mean"
   ]
  },
  {
   "cell_type": "code",
   "execution_count": 16,
   "id": "a7154c44",
   "metadata": {},
   "outputs": [],
   "source": [
    "FPR = [0,1]\n",
    "TPR = [0,1]\n",
    "ROC_AUC = []\n",
    "for i in range(O123.shape[1]):\n",
    "    if i%2==0:\n",
    "        #print(\"i\",i)\n",
    "        y_true = O123[:,i]\n",
    "        y_pred = O123[:,i+1]\n",
    "        \n",
    "    if i%2==1:\n",
    "        continue\n",
    "    \n",
    "    fpr, tpr, threshold = roc_curve(y_true, y_pred)\n",
    "    roc_auc = auc(fpr,tpr)\n",
    "    ROC_AUC.append(roc_auc)\n",
    "    FPR.append(fpr[1])\n",
    "    TPR.append(tpr[1])"
   ]
  },
  {
   "cell_type": "code",
   "execution_count": 17,
   "id": "968efa18",
   "metadata": {},
   "outputs": [
    {
     "data": {
      "text/plain": [
       "[0,\n",
       " 1,\n",
       " 0.13157894736842105,\n",
       " 0.07894736842105263,\n",
       " 0.07894736842105263,\n",
       " 0.13157894736842105,\n",
       " 0.10526315789473684,\n",
       " 0.18421052631578946,\n",
       " 0.10526315789473684,\n",
       " 0.07894736842105263,\n",
       " 0.21052631578947367,\n",
       " 0.05263157894736842,\n",
       " 0.13513513513513514,\n",
       " 0.10810810810810811,\n",
       " 0.02702702702702703,\n",
       " 0.02702702702702703,\n",
       " 0.08108108108108109,\n",
       " 0.02702702702702703,\n",
       " 0.0,\n",
       " 0.02702702702702703,\n",
       " 0.02702702702702703,\n",
       " 0.05405405405405406,\n",
       " 0.08108108108108109,\n",
       " 0.10810810810810811,\n",
       " 0.08108108108108109,\n",
       " 0.10810810810810811,\n",
       " 0.10810810810810811]"
      ]
     },
     "execution_count": 17,
     "metadata": {},
     "output_type": "execute_result"
    }
   ],
   "source": [
    "FPR\n"
   ]
  },
  {
   "cell_type": "code",
   "execution_count": 18,
   "id": "df0351d4",
   "metadata": {},
   "outputs": [
    {
     "data": {
      "text/plain": [
       "[0,\n",
       " 1,\n",
       " 0.8648648648648649,\n",
       " 0.918918918918919,\n",
       " 0.9459459459459459,\n",
       " 0.9459459459459459,\n",
       " 0.918918918918919,\n",
       " 0.8648648648648649,\n",
       " 0.8918918918918919,\n",
       " 0.918918918918919,\n",
       " 0.8648648648648649,\n",
       " 0.918918918918919,\n",
       " 0.7894736842105263,\n",
       " 0.868421052631579,\n",
       " 0.7894736842105263,\n",
       " 0.8421052631578947,\n",
       " 0.868421052631579,\n",
       " 0.8947368421052632,\n",
       " 0.868421052631579,\n",
       " 0.8947368421052632,\n",
       " 0.8947368421052632,\n",
       " 0.8947368421052632,\n",
       " 0.8421052631578947,\n",
       " 0.9736842105263158,\n",
       " 0.868421052631579,\n",
       " 0.9210526315789473,\n",
       " 0.9210526315789473]"
      ]
     },
     "execution_count": 18,
     "metadata": {},
     "output_type": "execute_result"
    }
   ],
   "source": [
    "TPR"
   ]
  },
  {
   "cell_type": "code",
   "execution_count": 24,
   "id": "8800fbaf",
   "metadata": {},
   "outputs": [
    {
     "data": {
      "text/plain": [
       "(-0.0, 1.0)"
      ]
     },
     "execution_count": 24,
     "metadata": {},
     "output_type": "execute_result"
    },
    {
     "data": {
      "image/png": "[encoded data removed]",
      "text/plain": [
       "<Figure size 432x288 with 1 Axes>"
      ]
     },
     "metadata": {
      "needs_background": "light"
     },
     "output_type": "display_data"
    }
   ],
   "source": [
    "# 2.创建一张figure\n",
    "fig = plt.figure(1)\n",
    "# 3. 设置颜色 color 值【可选参数，即可填可不填】，方式有几种\n",
    "# colors = np.random.rand(n) # 随机产生10个0~1之间的颜色值，或者\n",
    "colors = ['r', 'g', 'y', 'b', 'r', 'c', 'g', 'b', 'k', 'm']  # 可设置随机数取\n",
    "# 4. 设置点的面积大小 area 值 【可选参数】\n",
    "#area = 20*np.arange(1, n+1)\n",
    "# 5. 设置点的边界线宽度 【可选参数】\n",
    "# 6. 正式绘制散点图：scatter\n",
    "plt.scatter(FPR, TPR, c='r', linewidths=2, alpha=0.5, marker='o')\n",
    "# 7. 设置轴标签：xlabel、ylabel\n",
    "#设置X轴标签\n",
    "plt.xlabel('1 - specificity')\n",
    "#设置Y轴标签\n",
    "plt.ylabel('Sensitivity')\n",
    "# 8. 设置图标题：title\n",
    "plt.title('ROC')\n",
    "# 9. 设置轴的上下限显示值：xlim、ylim\n",
    "# 设置横轴的上下限值\n",
    "plt.xlim(-0.0, 1.03)\n",
    "# 设置纵轴的上下限值\n",
    "plt.ylim(-0.0, 1)"
   ]
  },
  {
   "cell_type": "code",
   "execution_count": 36,
   "id": "f11c6915",
   "metadata": {},
   "outputs": [
    {
     "data": {
      "text/plain": [
       "(10,)"
      ]
     },
     "execution_count": 36,
     "metadata": {},
     "output_type": "execute_result"
    }
   ],
   "source": [
    "labels = [1,0,0,1,0,1,1,0,1,0]\n",
    "#preds = [1,1,0,1,0,1,0,0,1,1,1]\n",
    "#preds = np.array([0.28,0.2,0.73,0.98,0.33,0.95,0.87,0.35,0.77,0.21])\n",
    "preds = np.array([[0.28,0.72], [0.2,0.8], [0.73,0.27], [0.98,0.02], [0.33,0.67],\n",
    "                  [0.95,0.05], [0.87,0.13], [0.35,0.65], [0.77,0.23], [0.21,0.79]])[:,0]\n",
    "preds.shape"
   ]
  },
  {
   "cell_type": "code",
   "execution_count": 37,
   "id": "886f6ab8",
   "metadata": {},
   "outputs": [
    {
     "data": {
      "text/plain": [
       "<matplotlib.legend.Legend at 0x20cd9cb1790>"
      ]
     },
     "execution_count": 37,
     "metadata": {},
     "output_type": "execute_result"
    },
    {
     "data": {
      "text/plain": [
       "<Figure size 432x288 with 0 Axes>"
      ]
     },
     "metadata": {},
     "output_type": "display_data"
    },
    {
     "data": {
      "image/png": "[encoded data removed]",
      "text/plain": [
       "<Figure size 720x720 with 1 Axes>"
      ]
     },
     "metadata": {
      "needs_background": "light"
     },
     "output_type": "display_data"
    }
   ],
   "source": [
    "\n",
    "fpr1, tpr1, threshold1 = roc_curve(labels, preds)  ###计算真正率和假正率\n",
    "\n",
    "roc_auc1 = auc(fpr1, tpr1)  ###计算auc的值，auc就是曲线包围的面积，越大越好\n",
    "plt.figure()\n",
    "lw = 2\n",
    "plt.figure(figsize=(10, 10))\n",
    "plt.plot(fpr1, tpr1, color='darkorange',\n",
    "        lw=lw, label='AUC = %0.2f' % roc_auc1)  ###假正率为横坐标，真正率为纵坐标做曲线\n",
    "plt.plot([0, 1], [0, 1], color='navy', lw=lw, linestyle='--')\n",
    "plt.xlim([-0.05, 1.05])\n",
    "plt.ylim([-0.05, 1.05])\n",
    "plt.xlabel('1 - Specificity')\n",
    "plt.ylabel('Sensitivity')\n",
    "# plt.title('ROCs for Densenet')\n",
    "plt.legend(loc=\"lower right\")\n",
    "# plt.show()"
   ]
  },
  {
   "cell_type": "code",
   "execution_count": 72,
   "id": "ccc11d96",
   "metadata": {},
   "outputs": [
    {
     "data": {
      "text/plain": [
       "array([[0., 0., 0., ..., 0., 1., 1.],\n",
       "       [0., 0., 1., ..., 0., 1., 0.],\n",
       "       [1., 1., 1., ..., 1., 0., 0.],\n",
       "       ...,\n",
       "       [1., 1., 1., ..., 1., 0., 0.],\n",
       "       [1., 1., 1., ..., 0., 0., 0.],\n",
       "       [1., 1., 1., ..., 1., 0., 0.]])"
      ]
     },
     "execution_count": 72,
     "metadata": {},
     "output_type": "execute_result"
    }
   ],
   "source": [
    "O3"
   ]
  },
  {
   "cell_type": "code",
   "execution_count": null,
   "id": "35a1818a",
   "metadata": {},
   "outputs": [],
   "source": []
  }
 ],
 "metadata": {
  "kernelspec": {
   "display_name": "Python 3 (ipykernel)",
   "language": "python",
   "name": "python3"
  },
  "language_info": {
   "codemirror_mode": {
    "name": "ipython",
    "version": 3
   },
   "file_extension": ".py",
   "mimetype": "text/x-python",
   "name": "python",
   "nbconvert_exporter": "python",
   "pygments_lexer": "ipython3",
   "version": "3.8.13"
  }
 },
 "nbformat": 4,
 "nbformat_minor": 5
}
